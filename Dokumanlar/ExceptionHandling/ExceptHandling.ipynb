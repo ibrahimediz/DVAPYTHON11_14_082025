{
 "cells": [
  {
   "cell_type": "markdown",
   "id": "141f8826",
   "metadata": {},
   "source": [
    "* try\n",
    "* except\n",
    "* else\n",
    "* exception hierarchy\n",
    "* finally\n",
    "* raise"
   ]
  },
  {
   "cell_type": "code",
   "execution_count": null,
   "id": "acc4ee4d",
   "metadata": {},
   "outputs": [
    {
     "ename": "ZeroDivisionError",
     "evalue": "division by zero",
     "output_type": "error",
     "traceback": [
      "\u001b[31m---------------------------------------------------------------------------\u001b[39m",
      "\u001b[31mZeroDivisionError\u001b[39m                         Traceback (most recent call last)",
      "\u001b[36mCell\u001b[39m\u001b[36m \u001b[39m\u001b[32mIn[4]\u001b[39m\u001b[32m, line 3\u001b[39m\n\u001b[32m      1\u001b[39m a = \u001b[38;5;28mint\u001b[39m(\u001b[38;5;28minput\u001b[39m(\u001b[33m\"\u001b[39m\u001b[33m1. Sayıyı Giriniz:\u001b[39m\u001b[33m\"\u001b[39m))\n\u001b[32m      2\u001b[39m b = \u001b[38;5;28mint\u001b[39m(\u001b[38;5;28minput\u001b[39m(\u001b[33m\"\u001b[39m\u001b[33m2. Sayıyı Giriniz:\u001b[39m\u001b[33m\"\u001b[39m))\n\u001b[32m----> \u001b[39m\u001b[32m3\u001b[39m \u001b[38;5;28mprint\u001b[39m(\u001b[43ma\u001b[49m\u001b[43m/\u001b[49m\u001b[43mb\u001b[49m)\n",
      "\u001b[31mZeroDivisionError\u001b[39m: division by zero"
     ]
    }
   ],
   "source": [
    "a = int(input(\"1. Sayıyı Giriniz:\"))\n",
    "b = int(input(\"2. Sayıyı Giriniz:\"))\n",
    "print(a/b)  #ZeroDivisionError ,valueerror"
   ]
  },
  {
   "cell_type": "code",
   "execution_count": 6,
   "id": "fa9b374e",
   "metadata": {},
   "outputs": [
    {
     "name": "stdout",
     "output_type": "stream",
     "text": [
      "Hata Verdi\n",
      "Program Çalışmada Devam Eder\n"
     ]
    }
   ],
   "source": [
    "try:\n",
    "    a = int(input(\"1. Sayıyı Giriniz:\"))\n",
    "    b = int(input(\"2. Sayıyı Giriniz:\"))\n",
    "    print(a/b)\n",
    "except:\n",
    "    print(\"Hata Verdi\")\n",
    "print(\"Program Çalışmada Devam Eder\")"
   ]
  },
  {
   "cell_type": "code",
   "execution_count": 7,
   "id": "0d4b045e",
   "metadata": {},
   "outputs": [
    {
     "name": "stdout",
     "output_type": "stream",
     "text": [
      "Hata Verdi: invalid literal for int() with base 10: 'a'\n",
      "Program Çalışmada Devam Eder\n"
     ]
    }
   ],
   "source": [
    "try:\n",
    "    a = int(input(\"1. Sayıyı Giriniz:\"))\n",
    "    b = int(input(\"2. Sayıyı Giriniz:\"))\n",
    "    print(a/b)\n",
    "except Exception as hata:\n",
    "    print(\"Hata Verdi:\",hata)\n",
    "print(\"Program Çalışmada Devam Eder\")"
   ]
  },
  {
   "cell_type": "code",
   "execution_count": 12,
   "id": "fe963e47",
   "metadata": {},
   "outputs": [
    {
     "name": "stdout",
     "output_type": "stream",
     "text": [
      "Bir sayıyı neden sıfıra bölersin. Sebebi neydiki\n",
      "Program Çalışmada Devam Eder\n"
     ]
    }
   ],
   "source": [
    "try:\n",
    "    a = int(input(\"1. Sayıyı Giriniz:\"))\n",
    "    b = int(input(\"2. Sayıyı Giriniz:\"))\n",
    "    print(a/b)\n",
    "except ZeroDivisionError:\n",
    "    print(\"Bir sayıyı neden sıfıra bölersin. Sebebi neydiki\")\n",
    "except Exception as hata:\n",
    "    print(\"Hata Verdi:\",hata)\n",
    "print(\"Program Çalışmada Devam Eder\")"
   ]
  },
  {
   "cell_type": "code",
   "execution_count": 13,
   "id": "b76d9166",
   "metadata": {},
   "outputs": [
    {
     "name": "stdout",
     "output_type": "stream",
     "text": [
      "Sadece sayı girebilirsin\n",
      "Program Çalışmada Devam Eder\n"
     ]
    }
   ],
   "source": [
    "try:\n",
    "    a = int(input(\"1. Sayıyı Giriniz:\"))\n",
    "    b = int(input(\"2. Sayıyı Giriniz:\"))\n",
    "    print(a/b)\n",
    "except ValueError:\n",
    "    print(\"Sadece sayı girebilirsin\")\n",
    "except ZeroDivisionError:\n",
    "    print(\"Bir sayıyı neden sıfıra bölersin. Sebebi neydiki\")\n",
    "except Exception as hata:\n",
    "    print(\"Hata Verdi:\",hata)\n",
    "print(\"Program Çalışmada Devam Eder\")"
   ]
  },
  {
   "cell_type": "code",
   "execution_count": 14,
   "id": "50c537ce",
   "metadata": {},
   "outputs": [
    {
     "name": "stdout",
     "output_type": "stream",
     "text": [
      "Bir sayıyı neden sıfıra bölersin. Sebebi neydiki\n",
      "Program Çalışmada Devam Eder\n"
     ]
    }
   ],
   "source": [
    "try:\n",
    "    a = int(input(\"1. Sayıyı Giriniz:\"))\n",
    "    b = int(input(\"2. Sayıyı Giriniz:\"))\n",
    "    print(a/b)\n",
    "except (ValueError,ZeroDivisionError) :\n",
    "    print(\"Bir sayıyı neden sıfıra bölersin. Sebebi neydiki\")\n",
    "except Exception as hata:\n",
    "    print(\"Hata Verdi:\",hata)\n",
    "print(\"Program Çalışmada Devam Eder\")"
   ]
  },
  {
   "cell_type": "code",
   "execution_count": 17,
   "id": "354b27c4",
   "metadata": {},
   "outputs": [
    {
     "name": "stdout",
     "output_type": "stream",
     "text": [
      "Hata 2\n"
     ]
    }
   ],
   "source": [
    "try:\n",
    "    a = int(input(\"1. Sayıyı Giriniz:\"))\n",
    "    b = int(input(\"2. Sayıyı Giriniz:\"))\n",
    "except ValueError:\n",
    "    print(\"Hata1\")\n",
    "else:\n",
    "    try:\n",
    "        print(a/b)\n",
    "    except ZeroDivisionError:\n",
    "        print(\"Hata 2\")"
   ]
  },
  {
   "cell_type": "code",
   "execution_count": 18,
   "id": "c84fc880",
   "metadata": {},
   "outputs": [
    {
     "name": "stdout",
     "output_type": "stream",
     "text": [
      "Hata Verdi: division by zero\n",
      "Program Çalışmada Devam Eder\n"
     ]
    }
   ],
   "source": [
    "try:\n",
    "    a = int(input(\"1. Sayıyı Giriniz:\"))\n",
    "    b = int(input(\"2. Sayıyı Giriniz:\"))\n",
    "    print(a/b)\n",
    "except Exception as hata:\n",
    "    print(\"Hata Verdi:\",hata)\n",
    "except ValueError:\n",
    "    print(\"Sadece sayı girebilirsin\")\n",
    "except ZeroDivisionError:\n",
    "    print(\"Bir sayıyı neden sıfıra bölersin. Sebebi neydiki\")\n",
    "\n",
    "print(\"Program Çalışmada Devam Eder\")"
   ]
  },
  {
   "cell_type": "code",
   "execution_count": 20,
   "id": "ef452fa9",
   "metadata": {},
   "outputs": [
    {
     "name": "stdout",
     "output_type": "stream",
     "text": [
      "0.21739130434782608\n",
      "Ara Veriyoruz\n"
     ]
    }
   ],
   "source": [
    "try:\n",
    "    a = int(input(\"1. Sayıyı Giriniz:\"))\n",
    "    b = int(input(\"2. Sayıyı Giriniz:\"))\n",
    "    print(a/b)\n",
    "except Exception as hata:\n",
    "    print(\"Hata Verdi:\",hata)\n",
    "finally:\n",
    "    print(\"Ara Veriyoruz\")"
   ]
  },
  {
   "cell_type": "code",
   "execution_count": 25,
   "id": "731256c0",
   "metadata": {},
   "outputs": [
    {
     "name": "stdout",
     "output_type": "stream",
     "text": [
      "2.5\n"
     ]
    }
   ],
   "source": [
    "def bolme():\n",
    "    a = input(\"1. Sayıyı Giriniz:\")\n",
    "    b = input(\"2. Sayıyı Giriniz:\")\n",
    "    if a.isdigit() and b.isdigit():\n",
    "        a,b = int(a),int(b)\n",
    "    else:\n",
    "        raise ValueError(\"Değer Hatası\")\n",
    "    if a and b:\n",
    "        return a/b\n",
    "    else:\n",
    "        raise ZeroDivisionError(\"Sıfıra Bölme Hatası\")\n",
    "\n",
    "\n",
    "try:\n",
    "    print(bolme())\n",
    "except ValueError as hata:\n",
    "    print(hata)\n",
    "except ZeroDivisionError as hata:\n",
    "    print(hata)\n",
    "except Exception:\n",
    "    print(hata)"
   ]
  },
  {
   "cell_type": "code",
   "execution_count": null,
   "id": "3452d12c",
   "metadata": {},
   "outputs": [],
   "source": []
  }
 ],
 "metadata": {
  "kernelspec": {
   "display_name": "Python 3",
   "language": "python",
   "name": "python3"
  },
  "language_info": {
   "codemirror_mode": {
    "name": "ipython",
    "version": 3
   },
   "file_extension": ".py",
   "mimetype": "text/x-python",
   "name": "python",
   "nbconvert_exporter": "python",
   "pygments_lexer": "ipython3",
   "version": "3.12.11"
  }
 },
 "nbformat": 4,
 "nbformat_minor": 5
}
