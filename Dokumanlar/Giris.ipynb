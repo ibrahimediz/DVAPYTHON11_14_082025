{
 "cells": [
  {
   "cell_type": "code",
   "execution_count": 1,
   "id": "76948f27",
   "metadata": {},
   "outputs": [
    {
     "name": "stdout",
     "output_type": "stream",
     "text": [
      "Merhaba\n"
     ]
    }
   ],
   "source": [
    "print(\"Merhaba\")"
   ]
  },
  {
   "cell_type": "markdown",
   "id": "aadfb024",
   "metadata": {},
   "source": [
    "# Giriş\n",
    "* Değişkenler\n",
    "* Kontrol Yapıları\n",
    "* Fonksiyonlar"
   ]
  },
  {
   "cell_type": "markdown",
   "id": "0a199c31",
   "metadata": {},
   "source": [
    "## Değişkenler"
   ]
  },
  {
   "cell_type": "code",
   "execution_count": 2,
   "id": "dcccca2b",
   "metadata": {},
   "outputs": [],
   "source": [
    "var1 = 1\n",
    "var2 = 1.2\n",
    "var3 = 1.2 + 4j\n",
    "var4 = \"Merhaba\" ### imutable\n",
    "var5 = [1,2,3,\"a\"]\n",
    "var6 = (1,2,3,\"a\") ##### imutable\n",
    "var7 = {1:\"a\",2:\"b\"}\n",
    "var8 = {1,2,3}\n",
    "var9 = True\n",
    "var10 = None"
   ]
  },
  {
   "cell_type": "code",
   "execution_count": 3,
   "id": "ff72d63e",
   "metadata": {},
   "outputs": [
    {
     "name": "stdout",
     "output_type": "stream",
     "text": [
      "<class 'int'> var1: 1\n",
      "<class 'float'> var2: 1.2\n",
      "<class 'complex'> var3: (1.2+4j)\n",
      "<class 'str'> var4: Merhaba\n",
      "<class 'list'> var5: [1, 2, 3, 'a']\n",
      "<class 'tuple'> var6: (1, 2, 3, 'a')\n",
      "<class 'dict'> var7: {1: 'a', 2: 'b'}\n",
      "<class 'set'> var8: {1, 2, 3}\n",
      "<class 'bool'> var9: True\n",
      "<class 'NoneType'> var10: None\n"
     ]
    }
   ],
   "source": [
    "print(type(var1),\"var1:\",var1)\n",
    "print(type(var2),\"var2:\",var2)\n",
    "print(type(var3),\"var3:\",var3)\n",
    "print(type(var4),\"var4:\",var4)\n",
    "print(type(var5),\"var5:\",var5)\n",
    "print(type(var6),\"var6:\",var6)\n",
    "print(type(var7),\"var7:\",var7)\n",
    "print(type(var8),\"var8:\",var8)\n",
    "print(type(var9),\"var9:\",var9)\n",
    "print(type(var10),\"var10:\",var10)"
   ]
  },
  {
   "cell_type": "code",
   "execution_count": 15,
   "id": "fde07699",
   "metadata": {},
   "outputs": [
    {
     "data": {
      "text/plain": [
       "('D', 'Djt')"
      ]
     },
     "execution_count": 15,
     "metadata": {},
     "output_type": "execute_result"
    }
   ],
   "source": [
    "metin = \"Dijital\"\n",
    "#        0123456\n",
    "metin[0],metin[0:5:2]"
   ]
  },
  {
   "cell_type": "code",
   "execution_count": 18,
   "id": "75a04cec",
   "metadata": {},
   "outputs": [
    {
     "data": {
      "text/plain": [
       "['Çankaya']"
      ]
     },
     "execution_count": 18,
     "metadata": {},
     "output_type": "execute_result"
    }
   ],
   "source": [
    "sozluk = {\"Adı\":\"Dijital\",\"Soyadı\":\"Akademi\",\"İl\":[\"Ankara\",\"İzmir\"]}\n",
    "sozluk.setdefault(\"İlçe\",[\"Çankaya\"])"
   ]
  },
  {
   "cell_type": "code",
   "execution_count": 19,
   "id": "222e53fd",
   "metadata": {},
   "outputs": [
    {
     "data": {
      "text/plain": [
       "{'Adı': 'Dijital',\n",
       " 'Soyadı': 'Akademi',\n",
       " 'İl': ['Ankara', 'İzmir'],\n",
       " 'İlçe': ['Çankaya']}"
      ]
     },
     "execution_count": 19,
     "metadata": {},
     "output_type": "execute_result"
    }
   ],
   "source": [
    "sozluk"
   ]
  },
  {
   "cell_type": "markdown",
   "id": "bae800b0",
   "metadata": {},
   "source": [
    "## Kontrol Yapıları\n",
    "* Karşılaştırma\n",
    "* Döngüler"
   ]
  },
  {
   "cell_type": "markdown",
   "id": "3962bd11",
   "metadata": {},
   "source": [
    "### Kaşılaştırma"
   ]
  },
  {
   "cell_type": "markdown",
   "id": "4767d58e",
   "metadata": {},
   "source": [
    "```\n",
    "if a == 2:\n",
    "    print(\"a = 2\")\n",
    "else:\n",
    "    print(\"a != 2\")\n",
    "```"
   ]
  },
  {
   "cell_type": "code",
   "execution_count": 28,
   "id": "0ad06970",
   "metadata": {},
   "outputs": [],
   "source": [
    "a = 0\n",
    "b = 0.0\n",
    "c = 0 + 0j\n",
    "d = \"\"\n",
    "e = []\n",
    "f = ()\n",
    "g = {}\n",
    "h = set()\n",
    "i = False\n",
    "j = None"
   ]
  },
  {
   "cell_type": "code",
   "execution_count": null,
   "id": "ad28dce7",
   "metadata": {},
   "outputs": [
    {
     "name": "stdout",
     "output_type": "stream",
     "text": [
      "a degeri 0'dan farklıdır.\n"
     ]
    }
   ],
   "source": [
    "a = 5 \n",
    "sonuc = \"Çift\" if a % 2 == 0 else \"Tek\"\n",
    "sonuc = \"Tek\"  if a % 2 else \"Çift\""
   ]
  },
  {
   "cell_type": "markdown",
   "id": "e41b1b45",
   "metadata": {},
   "source": [
    "### Döngüler"
   ]
  },
  {
   "cell_type": "code",
   "execution_count": 29,
   "id": "ef9787b6",
   "metadata": {},
   "outputs": [
    {
     "data": {
      "text/plain": [
       "range(1, 10)"
      ]
     },
     "execution_count": 29,
     "metadata": {},
     "output_type": "execute_result"
    }
   ],
   "source": [
    "# for\n",
    "range(1,10)"
   ]
  },
  {
   "cell_type": "code",
   "execution_count": 33,
   "id": "83b2262a",
   "metadata": {},
   "outputs": [
    {
     "name": "stdout",
     "output_type": "stream",
     "text": [
      "0;1;2;3;4;5;6;7;8;9\n"
     ]
    }
   ],
   "source": [
    "print(*range(10),sep=\";\")"
   ]
  },
  {
   "cell_type": "code",
   "execution_count": 35,
   "id": "66391be1",
   "metadata": {},
   "outputs": [
    {
     "name": "stdout",
     "output_type": "stream",
     "text": [
      "a\n",
      "b\n",
      "c\n",
      "d\n",
      "e\n"
     ]
    }
   ],
   "source": [
    "liste = [\"a\",\"b\",\"c\",\"d\",\"e\"]\n",
    "for i in range(5):\n",
    "    print(liste[i])\n"
   ]
  },
  {
   "cell_type": "code",
   "execution_count": 41,
   "id": "a3e915b3",
   "metadata": {},
   "outputs": [],
   "source": [
    "for i in range(8):\n",
    "    print(*liste,sep=\";\",file=open(\"dosya.csv\",\"a\"))\n"
   ]
  },
  {
   "cell_type": "code",
   "execution_count": 42,
   "id": "93370f72",
   "metadata": {},
   "outputs": [
    {
     "name": "stdout",
     "output_type": "stream",
     "text": [
      "1\n",
      "2\n",
      "3\n",
      "4\n",
      "5\n",
      "6\n",
      "7\n",
      "8\n",
      "9\n",
      "10\n"
     ]
    }
   ],
   "source": [
    "a = 0\n",
    "while a < 10:\n",
    "    a+=1\n",
    "    print(a)"
   ]
  },
  {
   "cell_type": "markdown",
   "id": "40351c12",
   "metadata": {},
   "source": [
    "* break\n",
    "* continue"
   ]
  },
  {
   "cell_type": "code",
   "execution_count": 45,
   "id": "9cfb893c",
   "metadata": {},
   "outputs": [
    {
     "name": "stdout",
     "output_type": "stream",
     "text": [
      "0\n",
      "1\n",
      "3\n",
      "4\n"
     ]
    }
   ],
   "source": [
    "for i in range(6):\n",
    "    if i == 2:\n",
    "        continue\n",
    "    print(i)\n",
    "    if i == 4:\n",
    "        break\n"
   ]
  },
  {
   "cell_type": "code",
   "execution_count": 48,
   "id": "9b4d4c71",
   "metadata": {},
   "outputs": [
    {
     "name": "stdout",
     "output_type": "stream",
     "text": [
      "0\n",
      "1\n",
      "2\n",
      "3\n",
      "4\n"
     ]
    }
   ],
   "source": [
    "for i in range(6):\n",
    "    print(i)\n",
    "    if i == 4:\n",
    "        break\n",
    "else:\n",
    "    print(\"bitti\")"
   ]
  },
  {
   "cell_type": "code",
   "execution_count": 49,
   "id": "7c15c758",
   "metadata": {},
   "outputs": [
    {
     "name": "stdout",
     "output_type": "stream",
     "text": [
      "a\n",
      "b\n",
      "C\n",
      "d\n",
      "E\n"
     ]
    }
   ],
   "source": [
    "liste = [\"a\",\"b\",\"C\",\"d\",\"E\"]\n",
    "for item in liste:\n",
    "    print(item)"
   ]
  },
  {
   "cell_type": "code",
   "execution_count": 51,
   "id": "6bad95de",
   "metadata": {},
   "outputs": [
    {
     "name": "stdout",
     "output_type": "stream",
     "text": [
      "(1, 'a') (2, 'b') (3, 'C') (4, 'd') (5, 'E')\n"
     ]
    }
   ],
   "source": [
    "print(*enumerate(liste,start=1))"
   ]
  },
  {
   "cell_type": "code",
   "execution_count": 52,
   "id": "28167c8b",
   "metadata": {},
   "outputs": [
    {
     "name": "stdout",
     "output_type": "stream",
     "text": [
      "0 a\n",
      "1 b\n",
      "2 C\n",
      "3 d\n",
      "4 E\n"
     ]
    }
   ],
   "source": [
    "liste = [\"a\",\"b\",\"C\",\"d\",\"E\"]\n",
    "for num,item in enumerate(liste):\n",
    "    print(num,item)\n"
   ]
  },
  {
   "cell_type": "code",
   "execution_count": 58,
   "id": "07c1c17f",
   "metadata": {},
   "outputs": [
    {
     "data": {
      "text/plain": [
       "['A', 'B', 'C', 'D', 'E']"
      ]
     },
     "execution_count": 58,
     "metadata": {},
     "output_type": "execute_result"
    }
   ],
   "source": [
    "liste = [\"a\",\"b\",\"C\",\"d\",\"E\"]\n",
    "filteredliste = [item.upper() for item in liste]\n",
    "filteredliste"
   ]
  },
  {
   "cell_type": "code",
   "execution_count": 59,
   "id": "3500ac16",
   "metadata": {},
   "outputs": [
    {
     "data": {
      "text/plain": [
       "['CC', 'EE']"
      ]
     },
     "execution_count": 59,
     "metadata": {},
     "output_type": "execute_result"
    }
   ],
   "source": [
    "filteredliste = [item*2 for item in liste if item.isupper()]\n",
    "filteredliste"
   ]
  },
  {
   "cell_type": "code",
   "execution_count": 61,
   "id": "7676ecb0",
   "metadata": {},
   "outputs": [
    {
     "data": {
      "text/plain": [
       "{0: 0, 1: 1, 2: 4, 3: 9, 4: 16, 5: 25, 6: 36, 7: 49, 8: 64, 9: 81}"
      ]
     },
     "execution_count": 61,
     "metadata": {},
     "output_type": "execute_result"
    }
   ],
   "source": [
    "sozluk = {i:i**2 for i in range(10)}\n",
    "sozluk"
   ]
  },
  {
   "cell_type": "markdown",
   "id": "f297c18e",
   "metadata": {},
   "source": [
    "## Fonksiyonlar\n",
    "* return\n",
    "* a,b,*args,**kwargs\n",
    "* yield\n",
    "* lambda"
   ]
  },
  {
   "cell_type": "code",
   "execution_count": 66,
   "id": "c68255fa",
   "metadata": {},
   "outputs": [
    {
     "name": "stdout",
     "output_type": "stream",
     "text": [
      "<class 'str'>\n"
     ]
    }
   ],
   "source": [
    "def concat(a,b):\n",
    "    return a+b\n",
    "print(type(concat(\"a\",\"b\")))\n"
   ]
  },
  {
   "cell_type": "code",
   "execution_count": 64,
   "id": "e6ed48c3",
   "metadata": {},
   "outputs": [
    {
     "data": {
      "text/plain": [
       "['a', 'b']"
      ]
     },
     "execution_count": 64,
     "metadata": {},
     "output_type": "execute_result"
    }
   ],
   "source": [
    "concat([\"a\"],[\"b\"])"
   ]
  },
  {
   "cell_type": "code",
   "execution_count": null,
   "id": "bab9a2a6",
   "metadata": {},
   "outputs": [
    {
     "data": {
      "text/plain": [
       "(3, 6)"
      ]
     },
     "execution_count": 71,
     "metadata": {},
     "output_type": "execute_result"
    }
   ],
   "source": [
    "def concat(a,b,c=0):\n",
    "    return a+b+c\n",
    "concat(1,2),concat(1,2,3)\n"
   ]
  },
  {
   "cell_type": "code",
   "execution_count": 76,
   "id": "6ae53533",
   "metadata": {},
   "outputs": [],
   "source": [
    "def topla(a:int,b:float,c:int=0,d:float=0.0,e:bool=True,f:bool=False) -> str:\n",
    "    \"\"\"\n",
    "    Toplama fonksiyonu\n",
    "    \"\"\"\n",
    "    return str(a,b,c,d,e,f)\n"
   ]
  },
  {
   "cell_type": "code",
   "execution_count": 77,
   "id": "83821e3a",
   "metadata": {},
   "outputs": [
    {
     "data": {
      "text/plain": [
       "'\\n    Toplama fonksiyonu\\n    '"
      ]
     },
     "execution_count": 77,
     "metadata": {},
     "output_type": "execute_result"
    }
   ],
   "source": [
    "topla.__doc__"
   ]
  },
  {
   "cell_type": "code",
   "execution_count": 82,
   "id": "aa385864",
   "metadata": {},
   "outputs": [
    {
     "name": "stdout",
     "output_type": "stream",
     "text": [
      "1 2 3 4 5 6\n"
     ]
    }
   ],
   "source": [
    "def topla(a,b,/,c,d,*,e,f):\n",
    "    print(a,b,c,d,e,f)\n",
    "topla(1,2,3,4,e=5,f=6)"
   ]
  },
  {
   "cell_type": "code",
   "execution_count": 84,
   "id": "e81e9bdf",
   "metadata": {},
   "outputs": [
    {
     "name": "stdout",
     "output_type": "stream",
     "text": [
      "1 2\n",
      "()\n",
      "{}\n",
      "1 2\n",
      "(3, 4, 5, 6)\n",
      "{}\n",
      "1 2\n",
      "(3, 4, 5, 6)\n",
      "{'param1': 1}\n"
     ]
    }
   ],
   "source": [
    "def fonk(a,b,*args,**kwargs):\n",
    "    print(a,b)\n",
    "    print(args)\n",
    "    print(kwargs)\n",
    "    \n",
    "fonk(1,2)\n",
    "fonk(1,2,3,4,5,6)\n",
    "fonk(1,2,3,4,5,6,param1=1)"
   ]
  },
  {
   "cell_type": "code",
   "execution_count": 85,
   "id": "e3c0dd93",
   "metadata": {},
   "outputs": [
    {
     "data": {
      "text/plain": [
       "3"
      ]
     },
     "execution_count": 85,
     "metadata": {},
     "output_type": "execute_result"
    }
   ],
   "source": [
    "fonk = lambda a,b: a+b\n",
    "fonk(1,2)"
   ]
  },
  {
   "cell_type": "code",
   "execution_count": null,
   "id": "3ed4b21a",
   "metadata": {},
   "outputs": [],
   "source": []
  }
 ],
 "metadata": {
  "kernelspec": {
   "display_name": "Python 3",
   "language": "python",
   "name": "python3"
  },
  "language_info": {
   "codemirror_mode": {
    "name": "ipython",
    "version": 3
   },
   "file_extension": ".py",
   "mimetype": "text/x-python",
   "name": "python",
   "nbconvert_exporter": "python",
   "pygments_lexer": "ipython3",
   "version": "3.12.8"
  }
 },
 "nbformat": 4,
 "nbformat_minor": 5
}
