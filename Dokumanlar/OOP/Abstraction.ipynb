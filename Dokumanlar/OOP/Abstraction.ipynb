{
 "cells": [
  {
   "cell_type": "markdown",
   "id": "c1e5d88b",
   "metadata": {},
   "source": [
    "# Abstraction"
   ]
  },
  {
   "cell_type": "code",
   "execution_count": 5,
   "id": "fe705ec2",
   "metadata": {},
   "outputs": [],
   "source": [
    "from abc import ABC,abstractmethod\n",
    "\n",
    "class A(ABC):\n",
    "    @abstractmethod\n",
    "    def soyle(self):\n",
    "        pass\n",
    "\n",
    "class B(A):\n",
    "    def __init__(self):\n",
    "        pass\n",
    "\n",
    "    def soyle(self):\n",
    "        pass\n",
    "\n",
    "obj = B()"
   ]
  },
  {
   "cell_type": "code",
   "execution_count": null,
   "id": "73c7e8b4",
   "metadata": {},
   "outputs": [],
   "source": [
    "from abc import ABC,abstractmethod\n",
    "class Arac(ABC):\n",
    "    @abstractmethod\n",
    "    def bilgiver():\n",
    "        pass\n",
    "\n",
    "    @abstractmethod\n",
    "    def yakitAl():\n",
    "        pass\n",
    "\n",
    "class KaraAraclari:\n",
    "    def __init__(self,isim,yakittipi,tekerleksayisi,motor):\n",
    "        self.yakittipi = yakittipi\n",
    "        self.tekerleksayisi = tekerleksayisi\n",
    "        self.motor = motor\n",
    "        self.isim = isim\n",
    "        self.yakitDurum = True\n",
    "\n",
    "    def yakitAl(self):\n",
    "        self.yakitDurum = True if not self.yakitDurum else False\n",
    "        print(self.isim,\"Yakıt Aldı\")\n",
    "\n",
    "    def bilgiver(self):\n",
    "        print(self.isim)\n",
    "        \"\"\"\n",
    "        diğerleri yazılabilir\n",
    "        \"\"\"\n",
    "class Araba(KaraAraclari):\n",
    "    def __init__(self,isim,yakittipi,tekerleksayisi,motor,kapisayisi):\n",
    "        super().__init__(isim,yakittipi,tekerleksayisi,motor)\n",
    "        self.kapisayisi = kapisayisi\n",
    "\n",
    "    def bilgiver(self):\n",
    "        super().bilgiver()\n",
    "        print(self.kapisayisi)"
   ]
  }
 ],
 "metadata": {
  "kernelspec": {
   "display_name": "Python 3",
   "language": "python",
   "name": "python3"
  },
  "language_info": {
   "codemirror_mode": {
    "name": "ipython",
    "version": 3
   },
   "file_extension": ".py",
   "mimetype": "text/x-python",
   "name": "python",
   "nbconvert_exporter": "python",
   "pygments_lexer": "ipython3",
   "version": "3.12.11"
  }
 },
 "nbformat": 4,
 "nbformat_minor": 5
}
