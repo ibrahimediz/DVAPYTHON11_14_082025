{
 "cells": [
  {
   "cell_type": "markdown",
   "id": "8261118c",
   "metadata": {},
   "source": [
    "# Encapsulation"
   ]
  },
  {
   "cell_type": "code",
   "execution_count": null,
   "id": "78f5cd90",
   "metadata": {},
   "outputs": [],
   "source": [
    "class A:\n",
    "    def __init__(self,a):\n",
    "        self.__gizli = \"Gizli Bilgi\"\n",
    "        self.a = a\n",
    "\n",
    "objA = A(2)\n",
    "objA.__gizli"
   ]
  },
  {
   "cell_type": "code",
   "execution_count": null,
   "id": "adcede13",
   "metadata": {},
   "outputs": [
    {
     "data": {
      "text/plain": [
       "'Gizli Bilgi'"
      ]
     },
     "execution_count": 4,
     "metadata": {},
     "output_type": "execute_result"
    }
   ],
   "source": [
    "class A:\n",
    "    def __init__(self,a):\n",
    "        self.__gizli = \"Gizli Bilgi\"\n",
    "        self.a = a\n",
    "        \n",
    "    def gizli(self): # getter\n",
    "        return self.__gizli\n",
    "\n",
    "objA = A(2)\n",
    "objA.gizli()"
   ]
  },
  {
   "cell_type": "code",
   "execution_count": 5,
   "id": "b17749bb",
   "metadata": {},
   "outputs": [
    {
     "data": {
      "text/plain": [
       "'Gizli Bilgi'"
      ]
     },
     "execution_count": 5,
     "metadata": {},
     "output_type": "execute_result"
    }
   ],
   "source": [
    "class A:\n",
    "    def __init__(self,a):\n",
    "        self.__gizli = \"Gizli Bilgi\"\n",
    "        self.a = a\n",
    "    @property   \n",
    "    def gizli(self): # getter\n",
    "        return self.__gizli\n",
    "\n",
    "objA = A(2)\n",
    "objA.gizli"
   ]
  },
  {
   "cell_type": "code",
   "execution_count": 8,
   "id": "b1bde073",
   "metadata": {},
   "outputs": [
    {
     "data": {
      "text/plain": [
       "3"
      ]
     },
     "execution_count": 8,
     "metadata": {},
     "output_type": "execute_result"
    }
   ],
   "source": [
    "class A:\n",
    "    def __init__(self,a):\n",
    "        self.__gizli = \"Gizli Bilgi\"\n",
    "        self.a = a\n",
    "    @property   \n",
    "    def gizli(self): # getter\n",
    "        return self.__gizli\n",
    "\n",
    "    @gizli.setter\n",
    "    def gizli(self,param):\n",
    "        if type(param) == int and param in range(1,11):\n",
    "            self.__gizli = param\n",
    "        else:\n",
    "            raise ValueError(\"Değer Hatası\")\n",
    "\n",
    "objA = A(2)\n",
    "objA.gizli = 3\n",
    "objA.gizli"
   ]
  },
  {
   "cell_type": "code",
   "execution_count": 9,
   "id": "e3d5a9f4",
   "metadata": {},
   "outputs": [
    {
     "data": {
      "text/plain": [
       "-1"
      ]
     },
     "execution_count": 9,
     "metadata": {},
     "output_type": "execute_result"
    }
   ],
   "source": [
    "class A:\n",
    "    nesneler = []\n",
    "    def __init__(self,a):\n",
    "        self.__gizli = \"Gizli Bilgi\"\n",
    "        self.a = a\n",
    "        A.nesneler.append(a)\n",
    "    @property   \n",
    "    def gizli(self): # getter\n",
    "        return self.__gizli\n",
    "\n",
    "    @gizli.setter\n",
    "    def gizli(self,param):\n",
    "        if type(param) == int and param in range(1,11):\n",
    "            self.__gizli = param\n",
    "        else:\n",
    "            raise ValueError(\"Değer Hatası\")\n",
    "    \n",
    "\n",
    "    @gizli.deleter\n",
    "    def gizli(self):\n",
    "        self.__gizli = -1\n",
    "\n",
    "objA = A(2)\n",
    "objA.gizli = 3\n",
    "objA.gizli\n",
    "del objA.gizli\n",
    "objA.gizli"
   ]
  },
  {
   "cell_type": "code",
   "execution_count": null,
   "id": "da53a109",
   "metadata": {},
   "outputs": [],
   "source": []
  }
 ],
 "metadata": {
  "kernelspec": {
   "display_name": "Python 3",
   "language": "python",
   "name": "python3"
  },
  "language_info": {
   "codemirror_mode": {
    "name": "ipython",
    "version": 3
   },
   "file_extension": ".py",
   "mimetype": "text/x-python",
   "name": "python",
   "nbconvert_exporter": "python",
   "pygments_lexer": "ipython3",
   "version": "3.12.11"
  }
 },
 "nbformat": 4,
 "nbformat_minor": 5
}
