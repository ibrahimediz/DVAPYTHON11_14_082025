{
 "cells": [
  {
   "cell_type": "markdown",
   "id": "918b6317",
   "metadata": {},
   "source": [
    "# Inheritance"
   ]
  },
  {
   "cell_type": "code",
   "execution_count": null,
   "id": "d1f67b53",
   "metadata": {},
   "outputs": [
    {
     "name": "stdout",
     "output_type": "stream",
     "text": [
      "A Sınıfından Çalıştım\n",
      "B Sınıfından Çalıştım\n",
      "3\n",
      "2\n"
     ]
    }
   ],
   "source": [
    "class A:\n",
    "    def __init__(self,a):\n",
    "        self.a = a\n",
    "    \n",
    "    def soyle(self):\n",
    "        print(\"A Sınıfından Çalıştım\")\n",
    "\n",
    "    def soyleA(self):\n",
    "        print(self.a)\n",
    "\n",
    "class B(A):\n",
    "    def __init__(self,a,b):\n",
    "        super().__init__(a)\n",
    "        self.b = b\n",
    "\n",
    "    def soyleB(self):\n",
    "        print(self.b)\n",
    "objB = B(2,3)\n",
    "objB.soyle()\n",
    "objB.soyleB()\n",
    "objB.soyleA()"
   ]
  },
  {
   "cell_type": "code",
   "execution_count": 16,
   "id": "f625a2fe",
   "metadata": {},
   "outputs": [
    {
     "name": "stdout",
     "output_type": "stream",
     "text": [
      "A Sınıfından Çalıştım\n"
     ]
    }
   ],
   "source": [
    "class A:\n",
    "    def __init__(self,a):\n",
    "        self.a = a\n",
    "    \n",
    "    def soyle(self):\n",
    "        print(\"A Sınıfından Çalıştım\")\n",
    "\n",
    "    def soyleA(self):\n",
    "        print(self.a)\n",
    "\n",
    "class B:\n",
    "    def __init__(self,b):\n",
    "        self.b = b\n",
    "    \n",
    "    def soyle(self):\n",
    "        print(\"B Sınıfından Çalıştım\")\n",
    "\n",
    "    def soyleB(self):\n",
    "        print(self.b)\n",
    "\n",
    "class C(A,B):\n",
    "    def __init__(self,a,b,c):\n",
    "       A.__init__(self,a)\n",
    "       B.__init__(self,b)\n",
    "       self.c = c \n",
    "\n",
    "objC = C(2,3,3)\n",
    "objC.soyle()"
   ]
  },
  {
   "cell_type": "code",
   "execution_count": null,
   "id": "a10a2ced",
   "metadata": {},
   "outputs": [],
   "source": []
  }
 ],
 "metadata": {
  "kernelspec": {
   "display_name": "Python 3",
   "language": "python",
   "name": "python3"
  },
  "language_info": {
   "codemirror_mode": {
    "name": "ipython",
    "version": 3
   },
   "file_extension": ".py",
   "mimetype": "text/x-python",
   "name": "python",
   "nbconvert_exporter": "python",
   "pygments_lexer": "ipython3",
   "version": "3.12.11"
  }
 },
 "nbformat": 4,
 "nbformat_minor": 5
}
