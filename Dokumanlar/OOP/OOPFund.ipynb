{
 "cells": [
  {
   "cell_type": "markdown",
   "id": "82ac144d",
   "metadata": {},
   "source": [
    "# OOP Fund\n",
    "* class ve instance\n",
    "* attribute ve method\n",
    "* constructor\n",
    "* self, cls keywords"
   ]
  },
  {
   "cell_type": "markdown",
   "id": "3187a7da",
   "metadata": {},
   "source": [
    "## class ve instance"
   ]
  },
  {
   "cell_type": "code",
   "execution_count": 2,
   "id": "224f9e9e",
   "metadata": {},
   "outputs": [
    {
     "name": "stdout",
     "output_type": "stream",
     "text": [
      "<class '__main__.Sinif'>\n"
     ]
    }
   ],
   "source": [
    "class Sinif:\n",
    "    pass\n",
    "\n",
    "print(Sinif)"
   ]
  },
  {
   "cell_type": "code",
   "execution_count": 8,
   "id": "456ac403",
   "metadata": {},
   "outputs": [
    {
     "name": "stdout",
     "output_type": "stream",
     "text": [
      "<class 'type'>\n"
     ]
    },
    {
     "data": {
      "text/plain": [
       "<__main__.Sinif at 0x22560710350>"
      ]
     },
     "execution_count": 8,
     "metadata": {},
     "output_type": "execute_result"
    }
   ],
   "source": [
    "print(type(str))\n",
    "Sinif()"
   ]
  },
  {
   "cell_type": "markdown",
   "id": "9de4f921",
   "metadata": {},
   "source": [
    "## attribute ve method"
   ]
  },
  {
   "cell_type": "code",
   "execution_count": null,
   "id": "f2732f4b",
   "metadata": {},
   "outputs": [
    {
     "name": "stdout",
     "output_type": "stream",
     "text": [
      "Sinif olusturuldu\n"
     ]
    },
    {
     "data": {
      "text/plain": [
       "<__main__.Sinif at 0x225606cef00>"
      ]
     },
     "execution_count": 10,
     "metadata": {},
     "output_type": "execute_result"
    }
   ],
   "source": [
    "class Sinif:\n",
    "    sinifOzelligi =\"Sinif ozelligi\"\n",
    "    def __init__(self):\n",
    "        self.a = \"Örnek Özellik\"\n",
    "        print(\"Sinif olusturuldu\")\n",
    "    \n",
    "    def metod1(self): # Örnek Method\n",
    "        print(self.a)\n",
    "        print(\"Metod1 calisti\")\n",
    "\n",
    "    @classmethod\n",
    "    def sinifMethod(cls):\n",
    "        print(cls.sinifOzelligi)\n",
    "\n",
    "\n",
    "Sinif()"
   ]
  },
  {
   "cell_type": "code",
   "execution_count": 16,
   "id": "bae18004",
   "metadata": {},
   "outputs": [
    {
     "name": "stdout",
     "output_type": "stream",
     "text": [
      "Sinif olusturuldu\n"
     ]
    },
    {
     "data": {
      "text/plain": [
       "'Örnek Özellik'"
      ]
     },
     "execution_count": 16,
     "metadata": {},
     "output_type": "execute_result"
    }
   ],
   "source": [
    "obj1 = Sinif()\n",
    "obj1.a"
   ]
  },
  {
   "cell_type": "code",
   "execution_count": 21,
   "id": "26d7d23d",
   "metadata": {},
   "outputs": [
    {
     "name": "stdout",
     "output_type": "stream",
     "text": [
      "Sinif olusturuldu\n",
      "Sinif olusturuldu\n"
     ]
    },
    {
     "data": {
      "text/plain": [
       "(2, 3, 'Sinif ozelligi', 'Sinif ozelligi')"
      ]
     },
     "execution_count": 21,
     "metadata": {},
     "output_type": "execute_result"
    }
   ],
   "source": [
    "class Sinif:\n",
    "    sinifOzelligi =\"Sinif ozelligi\"\n",
    "    def __init__(self, a,*args,**kwargs): # constructor \n",
    "        self.a = a\n",
    "        print(\"Sinif olusturuldu\")\n",
    "    \n",
    "    def metod1(self): # Örnek Method\n",
    "        print(self.a)\n",
    "        print(\"Metod1 calisti\")\n",
    "\n",
    "    @classmethod\n",
    "    def sinifMethod(cls):\n",
    "        print(cls.sinifOzelligi)\n",
    "\n",
    "obj1 = Sinif(2)\n",
    "obj2 = Sinif(3)\n",
    "obj1.a,obj2.a,obj1.sinifOzelligi,obj2.sinifOzelligi"
   ]
  },
  {
   "cell_type": "markdown",
   "id": "aaeea39a",
   "metadata": {},
   "source": [
    "## Self ve cls ifadeleri"
   ]
  },
  {
   "cell_type": "code",
   "execution_count": 23,
   "id": "e35bc142",
   "metadata": {},
   "outputs": [],
   "source": [
    "class Cokgen:\n",
    "    ozellik = \"Çokgen\"\n",
    "    def __init__(self,kenarsayisi,isim):\n",
    "        self.kenarsayisi = kenarsayisi\n",
    "        self.isim = isim\n",
    "\n",
    "    def bilgiver(self):\n",
    "        print(\"Cokgenin kenar sayisi: \", self.kenarsayisi)\n",
    "        print(\"Cokgenin ismi: \", self.isim)\n",
    "        print(\"Çokgenin iç açılar toplamı:\",(self.kenarsayisi-2)*180)\n",
    "\n",
    "    @classmethod\n",
    "    def sinifMethod(cls):\n",
    "        return cls.ozellik\n",
    "\n",
    "ucgen = Cokgen(3,\"Üçgen\")\n",
    "kare = Cokgen(4,\"Kare\")"
   ]
  },
  {
   "cell_type": "code",
   "execution_count": 24,
   "id": "35370e26",
   "metadata": {},
   "outputs": [
    {
     "name": "stdout",
     "output_type": "stream",
     "text": [
      "Cokgenin kenar sayisi:  3\n",
      "Cokgenin ismi:  Üçgen\n",
      "Çokgenin iç açılar toplamı: 180\n"
     ]
    }
   ],
   "source": [
    "ucgen.bilgiver()"
   ]
  },
  {
   "cell_type": "markdown",
   "id": "9b0e85bf",
   "metadata": {},
   "source": []
  }
 ],
 "metadata": {
  "kernelspec": {
   "display_name": "Python 3",
   "language": "python",
   "name": "python3"
  },
  "language_info": {
   "codemirror_mode": {
    "name": "ipython",
    "version": 3
   },
   "file_extension": ".py",
   "mimetype": "text/x-python",
   "name": "python",
   "nbconvert_exporter": "python",
   "pygments_lexer": "ipython3",
   "version": "3.12.8"
  }
 },
 "nbformat": 4,
 "nbformat_minor": 5
}
