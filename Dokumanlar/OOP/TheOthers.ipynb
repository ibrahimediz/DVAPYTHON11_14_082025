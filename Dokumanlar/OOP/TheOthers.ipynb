{
 "cells": [
  {
   "cell_type": "markdown",
   "id": "435bbad2",
   "metadata": {},
   "source": [
    "## decorators"
   ]
  },
  {
   "cell_type": "code",
   "execution_count": 1,
   "id": "c69bd16b",
   "metadata": {},
   "outputs": [
    {
     "name": "stdout",
     "output_type": "stream",
     "text": [
      "2432902008176640000\n",
      "faktoriyel 1.000178337097168 sürede çalıştı\n",
      "2432902008176640000\n",
      "mathFaktoriyel 1.000131368637085 sürede çalıştı\n"
     ]
    }
   ],
   "source": [
    "import time\n",
    "def zaman(fonk):\n",
    "    def icfonk(*args,**kwargs):\n",
    "        baslangic = time.time()\n",
    "        fonk(*args,**kwargs)\n",
    "        time.sleep(1)\n",
    "        bitis = time.time()\n",
    "        print(fonk.__name__,f\"{bitis-baslangic} sürede çalıştı\")\n",
    "    return icfonk\n",
    "@zaman\n",
    "def faktoriyel(n):\n",
    "    sonuc = 1\n",
    "    for i in range(1,n+1):\n",
    "        sonuc *= i\n",
    "    print(sonuc)\n",
    "import math\n",
    "@zaman\n",
    "def mathFaktoriyel(n):\n",
    "    print(math.factorial(n))\n",
    "\n",
    "faktoriyel(20)\n",
    "mathFaktoriyel(20)"
   ]
  },
  {
   "cell_type": "markdown",
   "id": "629c83c7",
   "metadata": {},
   "source": [
    "## Magic Methods"
   ]
  },
  {
   "cell_type": "code",
   "execution_count": 2,
   "id": "8657a137",
   "metadata": {},
   "outputs": [
    {
     "data": {
      "text/plain": [
       "['__abs__',\n",
       " '__add__',\n",
       " '__and__',\n",
       " '__bool__',\n",
       " '__ceil__',\n",
       " '__class__',\n",
       " '__delattr__',\n",
       " '__dir__',\n",
       " '__divmod__',\n",
       " '__doc__',\n",
       " '__eq__',\n",
       " '__float__',\n",
       " '__floor__',\n",
       " '__floordiv__',\n",
       " '__format__',\n",
       " '__ge__',\n",
       " '__getattribute__',\n",
       " '__getnewargs__',\n",
       " '__getstate__',\n",
       " '__gt__',\n",
       " '__hash__',\n",
       " '__index__',\n",
       " '__init__',\n",
       " '__init_subclass__',\n",
       " '__int__',\n",
       " '__invert__',\n",
       " '__le__',\n",
       " '__lshift__',\n",
       " '__lt__',\n",
       " '__mod__',\n",
       " '__mul__',\n",
       " '__ne__',\n",
       " '__neg__',\n",
       " '__new__',\n",
       " '__or__',\n",
       " '__pos__',\n",
       " '__pow__',\n",
       " '__radd__',\n",
       " '__rand__',\n",
       " '__rdivmod__',\n",
       " '__reduce__',\n",
       " '__reduce_ex__',\n",
       " '__repr__',\n",
       " '__rfloordiv__',\n",
       " '__rlshift__',\n",
       " '__rmod__',\n",
       " '__rmul__',\n",
       " '__ror__',\n",
       " '__round__',\n",
       " '__rpow__',\n",
       " '__rrshift__',\n",
       " '__rshift__',\n",
       " '__rsub__',\n",
       " '__rtruediv__',\n",
       " '__rxor__',\n",
       " '__setattr__',\n",
       " '__sizeof__',\n",
       " '__str__',\n",
       " '__sub__',\n",
       " '__subclasshook__',\n",
       " '__truediv__',\n",
       " '__trunc__',\n",
       " '__xor__',\n",
       " 'as_integer_ratio',\n",
       " 'bit_count',\n",
       " 'bit_length',\n",
       " 'conjugate',\n",
       " 'denominator',\n",
       " 'from_bytes',\n",
       " 'imag',\n",
       " 'is_integer',\n",
       " 'numerator',\n",
       " 'real',\n",
       " 'to_bytes']"
      ]
     },
     "execution_count": 2,
     "metadata": {},
     "output_type": "execute_result"
    }
   ],
   "source": [
    "a = 5\n",
    "dir(a)"
   ]
  },
  {
   "cell_type": "code",
   "execution_count": 6,
   "id": "dd2c5bef",
   "metadata": {},
   "outputs": [
    {
     "name": "stdout",
     "output_type": "stream",
     "text": [
      "20\n"
     ]
    }
   ],
   "source": [
    "class A:\n",
    "    def __init__(self,a):\n",
    "        self.a = a\n",
    "\n",
    "    def __lt__(self,obj):\n",
    "        return self.a < obj.a \n",
    "\n",
    "    def __str__(self):\n",
    "        return str(self.a)\n",
    "\n",
    "var1 = A(20)\n",
    "var2 = A(30)\n",
    "print(var1)"
   ]
  },
  {
   "cell_type": "code",
   "execution_count": 27,
   "id": "91d29a12",
   "metadata": {},
   "outputs": [
    {
     "data": {
      "text/plain": [
       "['eyuzbasi', 'ynuray', 'muge']"
      ]
     },
     "execution_count": 27,
     "metadata": {},
     "output_type": "execute_result"
    }
   ],
   "source": [
    "import random as rnd\n",
    "import os\n",
    "liste=list(filter(lambda x:not x.endswith(\".py\"),os.listdir(\"../../Egzersizler\")))\n",
    "liste.remove(\"diagram1.png\")\n",
    "\n",
    "rnd.sample(liste,3)\n",
    "# def fonk(liste,n=3):\n",
    "#     for i in range(n):\n",
    "#         yield liste[rnd.randint(0,len(liste)-1)]\n",
    "# for item in fonk(liste):\n",
    "#     print(item)"
   ]
  },
  {
   "cell_type": "code",
   "execution_count": 7,
   "id": "f203c14b",
   "metadata": {},
   "outputs": [
    {
     "name": "stdout",
     "output_type": "stream",
     "text": [
      "C:\\talat\\nalan\\biricik.html\n"
     ]
    }
   ],
   "source": [
    "print(r\"C:\\talat\\nalan\\biricik.html\")"
   ]
  },
  {
   "cell_type": "code",
   "execution_count": null,
   "id": "5227b355",
   "metadata": {},
   "outputs": [],
   "source": []
  }
 ],
 "metadata": {
  "kernelspec": {
   "display_name": "Python 3",
   "language": "python",
   "name": "python3"
  },
  "language_info": {
   "codemirror_mode": {
    "name": "ipython",
    "version": 3
   },
   "file_extension": ".py",
   "mimetype": "text/x-python",
   "name": "python",
   "nbconvert_exporter": "python",
   "pygments_lexer": "ipython3",
   "version": "3.12.11"
  }
 },
 "nbformat": 4,
 "nbformat_minor": 5
}
