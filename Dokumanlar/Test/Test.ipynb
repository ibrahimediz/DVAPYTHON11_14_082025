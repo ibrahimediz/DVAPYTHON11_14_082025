{
 "cells": [
  {
   "cell_type": "code",
   "execution_count": null,
   "id": "e6077207",
   "metadata": {},
   "outputs": [],
   "source": [
    "def topla(a,b):\n",
    "    return a+b\n",
    "\n",
    "def cikar(a,b):\n",
    "    return a-b\n",
    "\n",
    "def carp(a,b):\n",
    "    return a*b\n",
    "\n",
    "def bol(a,b):\n",
    "    if b == 0:\n",
    "        raise ZeroDivisionError()\n",
    "    return a/b"
   ]
  },
  {
   "cell_type": "code",
   "execution_count": 2,
   "id": "babf88ba",
   "metadata": {},
   "outputs": [
    {
     "name": "stderr",
     "output_type": "stream",
     "text": [
      "usage: ipykernel_launcher.py [-h] [-v] [-q] [--locals] [--durations N] [-f]\n",
      "                             [-c] [-b] [-k TESTNAMEPATTERNS]\n",
      "                             [tests ...]\n",
      "ipykernel_launcher.py: error: argument -f/--failfast: ignored explicit argument '/home/gitpod/.local/share/jupyter/runtime/kernel-v30a70e0ec9b2a3345fbd0c722230008fb31eaac77.json'\n"
     ]
    },
    {
     "ename": "SystemExit",
     "evalue": "2",
     "output_type": "error",
     "traceback": [
      "An exception has occurred, use %tb to see the full traceback.\n",
      "\u001b[31mSystemExit\u001b[39m\u001b[31m:\u001b[39m 2\n"
     ]
    },
    {
     "name": "stderr",
     "output_type": "stream",
     "text": [
      "/home/gitpod/.pyenv/versions/3.12.11/lib/python3.12/site-packages/IPython/core/interactiveshell.py:3680: UserWarning: To exit: use 'exit', 'quit', or Ctrl-D.\n",
      "  warn(\"To exit: use 'exit', 'quit', or Ctrl-D.\", stacklevel=1)\n"
     ]
    }
   ],
   "source": [
    "import unittest\n",
    "class TestMathOps(unittest.TestCase):\n",
    "    def setUp(self):\n",
    "        print(\"Test Başlıyor\")\n",
    "\n",
    "    def tearDown(self):\n",
    "        print(\"Test Bitti\")\n",
    "\n",
    "    def test_topla(self):\n",
    "        self.assertEqual(topla(3,5),8)\n",
    "        self.assertEqual(topla(-1,5),4)\n",
    "        self.assertEqual(topla(3,-5),-2)\n",
    "unittest.main()"
   ]
  },
  {
   "cell_type": "code",
   "execution_count": null,
   "id": "00d7f9b9",
   "metadata": {},
   "outputs": [],
   "source": []
  }
 ],
 "metadata": {
  "kernelspec": {
   "display_name": "Python 3",
   "language": "python",
   "name": "python3"
  },
  "language_info": {
   "codemirror_mode": {
    "name": "ipython",
    "version": 3
   },
   "file_extension": ".py",
   "mimetype": "text/x-python",
   "name": "python",
   "nbconvert_exporter": "python",
   "pygments_lexer": "ipython3",
   "version": "3.12.11"
  }
 },
 "nbformat": 4,
 "nbformat_minor": 5
}
