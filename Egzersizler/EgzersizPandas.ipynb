{
 "cells": [
  {
   "cell_type": "code",
   "execution_count": null,
   "id": "32f93a55",
   "metadata": {},
   "outputs": [],
   "source": [
    "yol = \"../../Egzersizler/datasets/diabetes.csv\""
   ]
  },
  {
   "cell_type": "markdown",
   "id": "9ceb26eb",
   "metadata": {},
   "source": [
    "Kütüphanelerin İçe Aktarılması"
   ]
  },
  {
   "cell_type": "code",
   "execution_count": null,
   "id": "76b89fbf",
   "metadata": {},
   "outputs": [],
   "source": []
  },
  {
   "cell_type": "markdown",
   "id": "741170cb",
   "metadata": {},
   "source": [
    "yukarıda yer alan yol değişkenini kullanarak seçtiğiniz veri setinin pd ile okunması"
   ]
  },
  {
   "cell_type": "code",
   "execution_count": null,
   "id": "5e3c13aa",
   "metadata": {},
   "outputs": [],
   "source": []
  },
  {
   "cell_type": "markdown",
   "id": "4753e250",
   "metadata": {},
   "source": [
    "ilk 5 veri"
   ]
  },
  {
   "cell_type": "code",
   "execution_count": null,
   "id": "f23f83d2",
   "metadata": {},
   "outputs": [],
   "source": []
  },
  {
   "cell_type": "markdown",
   "id": "46d743c6",
   "metadata": {},
   "source": [
    "son 5 veri"
   ]
  },
  {
   "cell_type": "code",
   "execution_count": null,
   "id": "fe01a7d4",
   "metadata": {},
   "outputs": [],
   "source": []
  },
  {
   "cell_type": "markdown",
   "id": "2ee5d8f1",
   "metadata": {},
   "source": [
    "veri ile ilgili özete bakılması"
   ]
  },
  {
   "cell_type": "code",
   "execution_count": null,
   "id": "c6fae1e3",
   "metadata": {},
   "outputs": [],
   "source": []
  },
  {
   "cell_type": "markdown",
   "id": "29e713ab",
   "metadata": {},
   "source": [
    "Veri ile ilgili tanımlayıcı istatistiklere bakılması"
   ]
  },
  {
   "cell_type": "code",
   "execution_count": null,
   "id": "085a9a0f",
   "metadata": {},
   "outputs": [],
   "source": []
  },
  {
   "cell_type": "markdown",
   "id": "eefdd5aa",
   "metadata": {},
   "source": [
    "istediğiniz 2 sütuna ve 20 veriye erişim"
   ]
  },
  {
   "cell_type": "code",
   "execution_count": null,
   "id": "5e29cc1f",
   "metadata": {},
   "outputs": [],
   "source": []
  },
  {
   "cell_type": "markdown",
   "id": "3514e8cf",
   "metadata": {},
   "source": [
    "istediğiniz bir sütun için şart yazımı"
   ]
  },
  {
   "cell_type": "markdown",
   "id": "7399e750",
   "metadata": {},
   "source": []
  },
  {
   "cell_type": "markdown",
   "id": "3037e22a",
   "metadata": {},
   "source": [
    "Boş verilerin sütun bazında listelenmesi"
   ]
  },
  {
   "cell_type": "code",
   "execution_count": null,
   "id": "45ede231",
   "metadata": {},
   "outputs": [],
   "source": []
  }
 ],
 "metadata": {
  "kernelspec": {
   "display_name": "Python 3",
   "language": "python",
   "name": "python3"
  },
  "language_info": {
   "codemirror_mode": {
    "name": "ipython",
    "version": 3
   },
   "file_extension": ".py",
   "mimetype": "text/x-python",
   "name": "python",
   "nbconvert_exporter": "python",
   "pygments_lexer": "ipython3",
   "version": "3.12.11"
  }
 },
 "nbformat": 4,
 "nbformat_minor": 5
}
