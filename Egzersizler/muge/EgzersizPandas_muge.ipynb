{
 "cells": [
  {
   "cell_type": "code",
   "execution_count": 54,
   "id": "32f93a55",
   "metadata": {},
   "outputs": [],
   "source": [
    "yol = \"../../Egzersizler/datasets/cancer.csv\""
   ]
  },
  {
   "cell_type": "markdown",
   "id": "9ceb26eb",
   "metadata": {},
   "source": [
    "Kütüphanelerin İçe Aktarılması"
   ]
  },
  {
   "cell_type": "code",
   "execution_count": 55,
   "id": "76b89fbf",
   "metadata": {},
   "outputs": [],
   "source": [
    "import pandas as pd\n",
    "yol = \"cancer.csv\""
   ]
  },
  {
   "cell_type": "markdown",
   "id": "741170cb",
   "metadata": {},
   "source": [
    "yukarıda yer alan yol değişkenini kullanarak seçtiğiniz veri setinin pd ile okunması"
   ]
  },
  {
   "cell_type": "code",
   "execution_count": 56,
   "id": "5e3c13aa",
   "metadata": {},
   "outputs": [],
   "source": [
    "df = pd.read_csv(\"../../Egzersizler/datasets/cancer.csv\")"
   ]
  },
  {
   "cell_type": "markdown",
   "id": "4753e250",
   "metadata": {},
   "source": [
    "ilk 5 veri"
   ]
  },
  {
   "cell_type": "code",
   "execution_count": 57,
   "id": "f23f83d2",
   "metadata": {},
   "outputs": [
    {
     "name": "stdout",
     "output_type": "stream",
     "text": [
      "   Class  age  menopause  tumor-size  inv-nodes  node-caps  deg-malig  breast  \\\n",
      "0      0    5          1           1          1          2          1       3   \n",
      "1      0    5          4           4          5          7         10       3   \n",
      "2      0    3          1           1          1          2          2       3   \n",
      "3      0    6          8           8          1          3          4       3   \n",
      "4      0    4          1           1          3          2          1       3   \n",
      "\n",
      "   breast-quad  irradiat  \n",
      "0            1         1  \n",
      "1            2         1  \n",
      "2            1         1  \n",
      "3            7         1  \n",
      "4            1         1  \n"
     ]
    }
   ],
   "source": [
    "print(df.head(5))"
   ]
  },
  {
   "cell_type": "markdown",
   "id": "46d743c6",
   "metadata": {},
   "source": [
    "son 5 veri"
   ]
  },
  {
   "cell_type": "code",
   "execution_count": 58,
   "id": "fe01a7d4",
   "metadata": {},
   "outputs": [
    {
     "name": "stdout",
     "output_type": "stream",
     "text": [
      "     Class  age  menopause  tumor-size  inv-nodes  node-caps  deg-malig  \\\n",
      "678      0    3          1           1          1          3          2   \n",
      "679      0    2          1           1          1          2          1   \n",
      "680      1    5         10          10          3          7          3   \n",
      "681      1    4          8           6          4          3          4   \n",
      "682      1    4          8           8          5          4          5   \n",
      "\n",
      "     breast  breast-quad  irradiat  \n",
      "678       1            1         1  \n",
      "679       1            1         1  \n",
      "680       8           10         2  \n",
      "681      10            6         1  \n",
      "682      10            4         1  \n"
     ]
    }
   ],
   "source": [
    "print(df.tail(5))"
   ]
  },
  {
   "cell_type": "markdown",
   "id": "2ee5d8f1",
   "metadata": {},
   "source": [
    "veri ile ilgili özete bakılması"
   ]
  },
  {
   "cell_type": "code",
   "execution_count": 59,
   "id": "c6fae1e3",
   "metadata": {},
   "outputs": [
    {
     "name": "stdout",
     "output_type": "stream",
     "text": [
      "<class 'pandas.core.frame.DataFrame'>\n",
      "RangeIndex: 683 entries, 0 to 682\n",
      "Data columns (total 10 columns):\n",
      " #   Column       Non-Null Count  Dtype\n",
      "---  ------       --------------  -----\n",
      " 0   Class        683 non-null    int64\n",
      " 1   age          683 non-null    int64\n",
      " 2   menopause    683 non-null    int64\n",
      " 3   tumor-size   683 non-null    int64\n",
      " 4   inv-nodes    683 non-null    int64\n",
      " 5   node-caps    683 non-null    int64\n",
      " 6   deg-malig    683 non-null    int64\n",
      " 7   breast       683 non-null    int64\n",
      " 8   breast-quad  683 non-null    int64\n",
      " 9   irradiat     683 non-null    int64\n",
      "dtypes: int64(10)\n",
      "memory usage: 53.5 KB\n"
     ]
    }
   ],
   "source": [
    "df.info()"
   ]
  },
  {
   "cell_type": "markdown",
   "id": "29e713ab",
   "metadata": {},
   "source": [
    "Veri ile ilgili tanımlayıcı istatistiklere bakılması"
   ]
  },
  {
   "cell_type": "code",
   "execution_count": 60,
   "id": "085a9a0f",
   "metadata": {},
   "outputs": [
    {
     "name": "stdout",
     "output_type": "stream",
     "text": [
      "            Class         age   menopause  tumor-size   inv-nodes   node-caps  \\\n",
      "count  683.000000  683.000000  683.000000  683.000000  683.000000  683.000000   \n",
      "mean     0.349927    4.442167    3.150805    3.215227    2.830161    3.234261   \n",
      "std      0.477296    2.820761    3.065145    2.988581    2.864562    2.223085   \n",
      "min      0.000000    1.000000    1.000000    1.000000    1.000000    1.000000   \n",
      "25%      0.000000    2.000000    1.000000    1.000000    1.000000    2.000000   \n",
      "50%      0.000000    4.000000    1.000000    1.000000    1.000000    2.000000   \n",
      "75%      1.000000    6.000000    5.000000    5.000000    4.000000    4.000000   \n",
      "max      1.000000   10.000000   10.000000   10.000000   10.000000   10.000000   \n",
      "\n",
      "        deg-malig      breast  breast-quad    irradiat  \n",
      "count  683.000000  683.000000   683.000000  683.000000  \n",
      "mean     3.544656    3.445095     2.869693    1.603221  \n",
      "std      3.643857    2.449697     3.052666    1.732674  \n",
      "min      1.000000    1.000000     1.000000    1.000000  \n",
      "25%      1.000000    2.000000     1.000000    1.000000  \n",
      "50%      1.000000    3.000000     1.000000    1.000000  \n",
      "75%      6.000000    5.000000     4.000000    1.000000  \n",
      "max     10.000000   10.000000    10.000000   10.000000  \n"
     ]
    }
   ],
   "source": [
    "print(df.describe())"
   ]
  },
  {
   "cell_type": "markdown",
   "id": "eefdd5aa",
   "metadata": {},
   "source": [
    "istediğiniz 2 sütuna ve 20 veriye erişim"
   ]
  },
  {
   "cell_type": "code",
   "execution_count": 61,
   "id": "5e29cc1f",
   "metadata": {},
   "outputs": [
    {
     "name": "stdout",
     "output_type": "stream",
     "text": [
      "    Class  age\n",
      "0       0    5\n",
      "1       0    5\n",
      "2       0    3\n",
      "3       0    6\n",
      "4       0    4\n",
      "5       1    8\n",
      "6       0    1\n",
      "7       0    2\n",
      "8       0    2\n",
      "9       0    4\n",
      "10      0    1\n",
      "11      0    2\n",
      "12      1    5\n",
      "13      0    1\n",
      "14      1    8\n",
      "15      1    7\n",
      "16      0    4\n",
      "17      0    4\n",
      "18      1   10\n",
      "19      0    6\n"
     ]
    }
   ],
   "source": [
    "secili_sutunlar=[\"Class\",\"age\"]\n",
    "veri=df[secili_sutunlar].head(20)\n",
    "print(veri)"
   ]
  },
  {
   "cell_type": "markdown",
   "id": "3514e8cf",
   "metadata": {},
   "source": [
    "istediğiniz bir sütun için şart yazımı"
   ]
  },
  {
   "cell_type": "code",
   "execution_count": null,
   "id": "ff704958",
   "metadata": {},
   "outputs": [],
   "source": []
  },
  {
   "cell_type": "markdown",
   "id": "3037e22a",
   "metadata": {},
   "source": [
    "Boş verilerin sütun bazında listelenmesi"
   ]
  },
  {
   "cell_type": "code",
   "execution_count": 62,
   "id": "45ede231",
   "metadata": {},
   "outputs": [
    {
     "name": "stdout",
     "output_type": "stream",
     "text": [
      "Class          0\n",
      "age            0\n",
      "menopause      0\n",
      "tumor-size     0\n",
      "inv-nodes      0\n",
      "node-caps      0\n",
      "deg-malig      0\n",
      "breast         0\n",
      "breast-quad    0\n",
      "irradiat       0\n",
      "dtype: int64\n"
     ]
    }
   ],
   "source": [
    "bos_veriler = df.isnull().sum()\n",
    "print(bos_veriler)"
   ]
  }
 ],
 "metadata": {
  "kernelspec": {
   "display_name": "Python 3",
   "language": "python",
   "name": "python3"
  },
  "language_info": {
   "codemirror_mode": {
    "name": "ipython",
    "version": 3
   },
   "file_extension": ".py",
   "mimetype": "text/x-python",
   "name": "python",
   "nbconvert_exporter": "python",
   "pygments_lexer": "ipython3",
   "version": "3.12.11"
  }
 },
 "nbformat": 4,
 "nbformat_minor": 5
}
