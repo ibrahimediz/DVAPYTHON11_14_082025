{
 "cells": [
  {
   "cell_type": "code",
   "execution_count": 4,
   "id": "32f93a55",
   "metadata": {},
   "outputs": [],
   "source": [
    "yol = \"../../Egzersizler/datasets/diabetes.csv\""
   ]
  },
  {
   "cell_type": "markdown",
   "id": "9ceb26eb",
   "metadata": {},
   "source": [
    "Kütüphanelerin İçe Aktarılması"
   ]
  },
  {
   "cell_type": "code",
   "execution_count": 2,
   "id": "76b89fbf",
   "metadata": {},
   "outputs": [],
   "source": [
    "import pandas as pd\n",
    "import numpy as np"
   ]
  },
  {
   "cell_type": "markdown",
   "id": "741170cb",
   "metadata": {},
   "source": [
    "yukarıda yer alan yol değişkenini kullanarak seçtiğiniz veri setinin pd ile okunması"
   ]
  },
  {
   "cell_type": "code",
   "execution_count": 3,
   "id": "5e3c13aa",
   "metadata": {},
   "outputs": [
    {
     "ename": "NameError",
     "evalue": "name 'yol' is not defined",
     "output_type": "error",
     "traceback": [
      "\u001b[31m---------------------------------------------------------------------------\u001b[39m",
      "\u001b[31mNameError\u001b[39m                                 Traceback (most recent call last)",
      "\u001b[36mCell\u001b[39m\u001b[36m \u001b[39m\u001b[32mIn[3]\u001b[39m\u001b[32m, line 1\u001b[39m\n\u001b[32m----> \u001b[39m\u001b[32m1\u001b[39m df_diabets = pd.read_csv(\u001b[43myol\u001b[49m)\n\u001b[32m      2\u001b[39m \u001b[38;5;28mprint\u001b[39m(\u001b[33m\"\u001b[39m\u001b[38;5;130;01m\\n\u001b[39;00m\u001b[33m CSV Dosyasından Okunan Veri:\u001b[39m\u001b[33m\"\u001b[39m)\n\u001b[32m      3\u001b[39m \u001b[38;5;28mprint\u001b[39m(df_diabets)\n",
      "\u001b[31mNameError\u001b[39m: name 'yol' is not defined"
     ]
    }
   ],
   "source": [
    "df_diabets = pd.read_csv(yol)\n",
    "print(\"\\n CSV Dosyasından Okunan Veri:\")\n",
    "print(df_diabets)"
   ]
  },
  {
   "cell_type": "markdown",
   "id": "4753e250",
   "metadata": {},
   "source": [
    "ilk 5 veri"
   ]
  },
  {
   "cell_type": "code",
   "execution_count": null,
   "id": "f23f83d2",
   "metadata": {},
   "outputs": [],
   "source": [
    "bes_veri=df_diabets.head()\n",
    "print(bes_veri)"
   ]
  },
  {
   "cell_type": "markdown",
   "id": "46d743c6",
   "metadata": {},
   "source": [
    "son 5 veri"
   ]
  },
  {
   "cell_type": "code",
   "execution_count": null,
   "id": "fe01a7d4",
   "metadata": {},
   "outputs": [],
   "source": [
    "son_bes_veri=df_diabets.tail()\n",
    "print(son_bes_veri)"
   ]
  },
  {
   "cell_type": "markdown",
   "id": "2ee5d8f1",
   "metadata": {},
   "source": [
    "veri ile ilgili özete bakılması"
   ]
  },
  {
   "cell_type": "code",
   "execution_count": null,
   "id": "c6fae1e3",
   "metadata": {},
   "outputs": [],
   "source": [
    "df_diabets.info()"
   ]
  },
  {
   "cell_type": "markdown",
   "id": "29e713ab",
   "metadata": {},
   "source": [
    "Veri ile ilgili tanımlayıcı istatistiklere bakılması"
   ]
  },
  {
   "cell_type": "code",
   "execution_count": null,
   "id": "085a9a0f",
   "metadata": {},
   "outputs": [],
   "source": [
    "print(df_diabets.describe(include='all'))"
   ]
  },
  {
   "cell_type": "markdown",
   "id": "eefdd5aa",
   "metadata": {},
   "source": [
    "istediğiniz 2 sütuna ve 20 veriye erişim"
   ]
  },
  {
   "cell_type": "markdown",
   "id": "9fdd9112",
   "metadata": {},
   "source": []
  },
  {
   "cell_type": "code",
   "execution_count": null,
   "id": "5e29cc1f",
   "metadata": {},
   "outputs": [],
   "source": [
    "df_diabets.loc[:20,[\"BMI\",\"Outcome\"]]"
   ]
  },
  {
   "cell_type": "markdown",
   "id": "3514e8cf",
   "metadata": {},
   "source": [
    "istediğiniz bir sütun için şart yazımı"
   ]
  },
  {
   "cell_type": "markdown",
   "id": "7399e750",
   "metadata": {},
   "source": [
    "df[df[\"Age\"]> 30]"
   ]
  },
  {
   "cell_type": "markdown",
   "id": "3037e22a",
   "metadata": {},
   "source": [
    "Boş verilerin sütun bazında listelenmesi"
   ]
  },
  {
   "cell_type": "code",
   "execution_count": 12,
   "id": "45ede231",
   "metadata": {},
   "outputs": [
    {
     "ename": "NameError",
     "evalue": "name 'df' is not defined",
     "output_type": "error",
     "traceback": [
      "\u001b[31m---------------------------------------------------------------------------\u001b[39m",
      "\u001b[31mNameError\u001b[39m                                 Traceback (most recent call last)",
      "\u001b[36mCell\u001b[39m\u001b[36m \u001b[39m\u001b[32mIn[12]\u001b[39m\u001b[32m, line 1\u001b[39m\n\u001b[32m----> \u001b[39m\u001b[32m1\u001b[39m \u001b[43mdf\u001b[49m.isna().sum()\n",
      "\u001b[31mNameError\u001b[39m: name 'df' is not defined"
     ]
    }
   ],
   "source": [
    "df.isna().sum()"
   ]
  },
  {
   "cell_type": "markdown",
   "id": "d8b8ad44",
   "metadata": {},
   "source": [
    "Cinsiyete göre hayatta kalma sayılarını karşılaştırma (pd.crosstab() kullanarak)"
   ]
  },
  {
   "cell_type": "code",
   "execution_count": null,
   "id": "f61d9cc0",
   "metadata": {},
   "outputs": [],
   "source": [
    "import pandas as pd\n",
    "import numpy as np\n",
    "yol = \"/workspace/DVAPYTHON11_14_082025/Egzersizler/datasets/titanic/train.csv\"\n",
    "\n",
    "df_train = pd.read_csv(yol)\n",
    "print(\"\\n CSV Dosyasından Okunan Veri:\")\n",
    "print(df_train)\n"
   ]
  },
  {
   "cell_type": "code",
   "execution_count": 21,
   "id": "c53eeb53",
   "metadata": {},
   "outputs": [
    {
     "ename": "NameError",
     "evalue": "name 'plt' is not defined",
     "output_type": "error",
     "traceback": [
      "\u001b[31m---------------------------------------------------------------------------\u001b[39m",
      "\u001b[31mNameError\u001b[39m                                 Traceback (most recent call last)",
      "\u001b[36mCell\u001b[39m\u001b[36m \u001b[39m\u001b[32mIn[21]\u001b[39m\u001b[32m, line 2\u001b[39m\n\u001b[32m      1\u001b[39m \u001b[38;5;66;03m# Grafik oluşturma\u001b[39;00m\n\u001b[32m----> \u001b[39m\u001b[32m2\u001b[39m \u001b[43mplt\u001b[49m.figure(figsize=(\u001b[32m10\u001b[39m,\u001b[32m6\u001b[39m))  \u001b[38;5;66;03m# Grafik boyutunu ayarlama\u001b[39;00m\n\u001b[32m      3\u001b[39m plt.plot(df_train[\u001b[33m'\u001b[39m\u001b[33mSex\u001b[39m\u001b[33m'\u001b[39m], df_train[\u001b[33m'\u001b[39m\u001b[33mSurvived\u001b[39m\u001b[33m'\u001b[39m], marker=\u001b[33m'\u001b[39m\u001b[33mo\u001b[39m\u001b[33m'\u001b[39m, linestyle=\u001b[33m'\u001b[39m\u001b[33m-\u001b[39m\u001b[33m'\u001b[39m, color=\u001b[33m'\u001b[39m\u001b[33mb\u001b[39m\u001b[33m'\u001b[39m, linewidth=\u001b[32m2\u001b[39m)\n\u001b[32m      5\u001b[39m \u001b[38;5;66;03m# Grafik başlıkları ve etiketler\u001b[39;00m\n",
      "\u001b[31mNameError\u001b[39m: name 'plt' is not defined"
     ]
    }
   ],
   "source": [
    "# Grafik oluşturma\n",
    "plt.figure(figsize=(10,6))  # Grafik boyutunu ayarlama\n",
    "plt.plot(df_train['Sex'], df_train['Survived'], marker='o', linestyle='-', color='b', linewidth=2)\n",
    "\n",
    "# Grafik başlıkları ve etiketler\n",
    "plt.title('Cinsiyete göre hayatta kalma oranı', fontsize=16)\n",
    "plt.xlabel('Cinsiyet', fontsize=12)\n",
    "plt.ylabel('Hayatta kalma oranı', fontsize=12)\n",
    "\n",
    "# Izgara eklemek okunabilirliği artırır\n",
    "plt.grid(True, linestyle='--', alpha=0.7)\n",
    "\n",
    "# Grafik gösterimi\n",
    "plt.show()\n",
    "pd.crosstab([\"Sex\",\"Survived\"])"
   ]
  },
  {
   "cell_type": "markdown",
   "id": "80a80e87",
   "metadata": {},
   "source": [
    "* Yaş gruplarının hayatta kalma oranlarını görselleştirme"
   ]
  },
  {
   "cell_type": "code",
   "execution_count": 18,
   "id": "257dd69b",
   "metadata": {},
   "outputs": [
    {
     "name": "stdout",
     "output_type": "stream",
     "text": [
      "Survived    0    1\n",
      "Sex               \n",
      "female     81  233\n",
      "male      468  109\n"
     ]
    }
   ],
   "source": [
    "\n",
    "crosstab = pd.crosstab(df_train['Sex'], df_train['Survived'])\n",
    "\n",
    "print(crosstab)"
   ]
  },
  {
   "cell_type": "markdown",
   "id": "5b4732a8",
   "metadata": {},
   "source": [
    "* Sınıflara göre bilet fiyatlarının ortalamasını hesaplama"
   ]
  },
  {
   "cell_type": "markdown",
   "id": "b0be1593",
   "metadata": {},
   "source": [
    "* En çok hangi limandan yolcu bindiğini bulma"
   ]
  },
  {
   "cell_type": "markdown",
   "id": "63063839",
   "metadata": {},
   "source": [
    "* Korelasyon Matrisi üzerinden bilgi okumak"
   ]
  }
 ],
 "metadata": {
  "kernelspec": {
   "display_name": "Python 3",
   "language": "python",
   "name": "python3"
  },
  "language_info": {
   "codemirror_mode": {
    "name": "ipython",
    "version": 3
   },
   "file_extension": ".py",
   "mimetype": "text/x-python",
   "name": "python",
   "nbconvert_exporter": "python",
   "pygments_lexer": "ipython3",
   "version": "3.12.11"
  }
 },
 "nbformat": 4,
 "nbformat_minor": 5
}
